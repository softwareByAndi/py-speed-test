{
 "cells": [
  {
   "cell_type": "code",
   "execution_count": 11,
   "metadata": {},
   "outputs": [],
   "source": []
  },
  {
   "cell_type": "code",
   "execution_count": 13,
   "metadata": {},
   "outputs": [
    {
     "name": "stdout",
     "output_type": "stream",
     "text": [
      "hello world\n",
      "checking internet speed:\n",
      "internet speed test complete\n"
     ]
    }
   ],
   "source": [
    "import requests\n",
    "import sys\n",
    "import os\n",
    "import logging\n",
    "import socket\n",
    "import json\n",
    "import math\n",
    "import time\n",
    "\n",
    "# check if we have internet\n",
    "def internet(host=\"8.8.8.8\", port=53, timeout=3):\n",
    "    try:\n",
    "        socket.setdefaulttimeout(timeout)\n",
    "        socket.socket(\n",
    "            socket.AF_INET,\n",
    "            socket.SOCK_STREAM\n",
    "        ).connect((host, port))\n",
    "        return True\n",
    "    except Exception as ex:\n",
    "        return False\n",
    "    \n",
    "print(\"checking internet speed:\")\n",
    "\n",
    "with open('speedtests.json', 'r') as log:\n",
    "    past_data = json.load(log) or []\n",
    "error_data = None\n",
    "\n",
    "try:\n",
    "    if internet():\n",
    "        os.system('rm temp.json; touch temp.json')\n",
    "        st_results = os.system('speedtest-cli --secure --json >> temp.json')\n",
    "        with open('temp.json') as json_file:\n",
    "            st_result_data = json.load(json_file)\n",
    "        if st_result_data:\n",
    "            st_result_data['download_mbps'] = math.floor(st_result_data['download'] / 1000000)\n",
    "            st_result_data['upload_mbps'] = math.floor(st_result_data['upload'] / 1000000)\n",
    "            st_result_data['local_timestamp'] = int(time.time())\n",
    "            st_result_data['local_datetime'] = time.strftime('%Y-%m-%d %H:%M:%S', time.localtime(st_result_data['local_timestamp']))\n",
    "            with open('speedtests.json', 'w') as log:\n",
    "                past_data.append(st_result_data)\n",
    "                json.dump(past_data, log)\n",
    "        else:\n",
    "            error_data = {\n",
    "                \"status\": \"speedtest failed\",\n",
    "                \"error_message\": \"no data returned from speedtest-cli\"\n",
    "            }\n",
    "    else:\n",
    "        error_data = {\n",
    "            \"status\": \"speedtest failed\",\n",
    "            \"error_message\": \"no internet connection detected\"\n",
    "        }\n",
    "except Exception as ex:\n",
    "    error_data = {\n",
    "        \"status\": \"speedtest failed\",\n",
    "        \"error_message\": str(ex)\n",
    "    }\n",
    "\n",
    "if error_data:\n",
    "    with open('speedtests.json', 'w') as log:\n",
    "        past_data.append(error_data)\n",
    "        json.dump(past_data, log)\n",
    "        \n",
    "print(\"internet speed test complete\")"
   ]
  },
  {
   "cell_type": "code",
   "execution_count": 14,
   "metadata": {},
   "outputs": [],
   "source": [
    "with open('speedtests.json', 'r') as log:\n",
    "    past_data = json.load(log) or []\n",
    "\n",
    "# convert past_data[0]['local_timestamp'] int into into datetime\n",
    "\n",
    "past_data[0]['local_datetime'] = time.strftime(\n",
    "    '%Y-%m-%d %H:%M:%S', \n",
    "    time.localtime(past_data[0]['local_timestamp'])\n",
    ")\n",
    "with open('speedtests.json', 'w') as log:\n",
    "    json.dump(past_data, log) "
   ]
  },
  {
   "cell_type": "code",
   "execution_count": 10,
   "metadata": {},
   "outputs": [
    {
     "name": "stdout",
     "output_type": "stream",
     "text": [
      "16 / 28\n"
     ]
    }
   ],
   "source": [
    "download = past_data[-1]['download']\n",
    "upload = past_data[-1]['upload']\n",
    "# convert to mbps\n",
    "download = math.floor(download / 1000000)\n",
    "upload = math.floor(upload / 1000000)\n",
    "print(download , '/', upload)"
   ]
  },
  {
   "cell_type": "code",
   "execution_count": null,
   "metadata": {},
   "outputs": [],
   "source": []
  }
 ],
 "metadata": {
  "kernelspec": {
   "display_name": "Python 3",
   "language": "python",
   "name": "python3"
  },
  "language_info": {
   "codemirror_mode": {
    "name": "ipython",
    "version": 3
   },
   "file_extension": ".py",
   "mimetype": "text/x-python",
   "name": "python",
   "nbconvert_exporter": "python",
   "pygments_lexer": "ipython3",
   "version": "3.10.12"
  },
  "orig_nbformat": 4
 },
 "nbformat": 4,
 "nbformat_minor": 2
}
